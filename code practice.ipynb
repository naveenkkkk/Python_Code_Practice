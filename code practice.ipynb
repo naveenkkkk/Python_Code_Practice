{
 "cells": [
  {
   "cell_type": "code",
   "execution_count": 15,
   "id": "1dd7c28c",
   "metadata": {},
   "outputs": [
    {
     "name": "stdout",
     "output_type": "stream",
     "text": [
      "5\n",
      "*****\n",
      "*****\n",
      "*****\n",
      "*****\n",
      "*****\n"
     ]
    }
   ],
   "source": [
    "'''\n",
    "# downward right triangle                    \n",
    "n = int(input())                             \n",
    "for i in range(0,n):\n",
    "    print(\"*\" * (n-i))\n",
    "\n",
    "*****\n",
    "****\n",
    "***\n",
    "**\n",
    "*\n",
    "\n",
    "right triangle \n",
    "n = int(input())\n",
    "for i in range(0,n):\n",
    "    print(\"*\" * (i + 1))\n",
    "    \n",
    "*\n",
    "**\n",
    "***\n",
    "****\n",
    "*****\n",
    "'''\n",
    "n = int(input())\n",
    "for i in range(0,n):\n",
    "    print(\"*\" * n)\n",
    "    "
   ]
  },
  {
   "cell_type": "code",
   "execution_count": 1,
   "id": "0afcd03a",
   "metadata": {},
   "outputs": [
    {
     "name": "stdout",
     "output_type": "stream",
     "text": [
      "5\n",
      "odd\n"
     ]
    }
   ],
   "source": [
    "n = int(input())\n",
    "if n%2==0:\n",
    "    print(\"even\")\n",
    "else:\n",
    "    print(\"odd\")"
   ]
  },
  {
   "cell_type": "code",
   "execution_count": 6,
   "id": "f38ca222",
   "metadata": {},
   "outputs": [
    {
     "name": "stdout",
     "output_type": "stream",
     "text": [
      "10\n",
      "3628800\n"
     ]
    }
   ],
   "source": [
    "def fac(n):\n",
    "    if n == 0 or n ==1:\n",
    "        return 1\n",
    "    else:\n",
    "        return n * fac(n-1)\n",
    "\n",
    "n = int(input())\n",
    "print(fac(n))"
   ]
  },
  {
   "cell_type": "code",
   "execution_count": 1,
   "id": "17089c0c",
   "metadata": {},
   "outputs": [
    {
     "name": "stdout",
     "output_type": "stream",
     "text": [
      "sts\n",
      "palindrome\n"
     ]
    }
   ],
   "source": [
    "def pal(s):\n",
    "    return s == s[::-1]\n",
    "s= input()\n",
    "if pal(s):\n",
    "    print(\"palindrome\")\n",
    "else:\n",
    "    print(\"not palindrome\")"
   ]
  },
  {
   "cell_type": "code",
   "execution_count": 7,
   "id": "3564abb3",
   "metadata": {},
   "outputs": [
    {
     "name": "stdout",
     "output_type": "stream",
     "text": [
      "13\n",
      "233\n"
     ]
    }
   ],
   "source": [
    "n = int(input())     #fibonacci\n",
    "a=0\n",
    "b=1\n",
    "for i in range(1,n): #1       2      3      4\n",
    "    c = a + b        #c = 1   c = 2  c = 3  c = 5\n",
    "    a = b            #a = 1   a = 1  a = 2  a = 3\n",
    "    b = c            #b = 1   b = 2  b = 3  b = 5\n",
    "print(c)"
   ]
  },
  {
   "cell_type": "code",
   "execution_count": 11,
   "id": "b760148d",
   "metadata": {},
   "outputs": [
    {
     "name": "stdout",
     "output_type": "stream",
     "text": [
      "Enter a number: 24\n",
      "24 is not a prime number\n"
     ]
    }
   ],
   "source": [
    "num = int(input(\"Enter a number: \"))\n",
    "flag = False\n",
    "\n",
    "if num == 1:\n",
    "    print(num, \"is not a prime number\")\n",
    "elif num > 1:\n",
    "    for i in range(2, num -1):\n",
    "        if (num % i) == 0:\n",
    "            flag = True\n",
    "            break\n",
    "\n",
    "    if flag:\n",
    "        print(num, \"is not a prime number\")\n",
    "    else:\n",
    "        print(num, \"is a prime number\")"
   ]
  },
  {
   "cell_type": "code",
   "execution_count": 13,
   "id": "4acd1faf",
   "metadata": {},
   "outputs": [
    {
     "name": "stdout",
     "output_type": "stream",
     "text": [
      "in\n",
      "2\n"
     ]
    }
   ],
   "source": [
    "n = input()  # word count\n",
    "sum = 0\n",
    "for i in n:\n",
    "    sum += 1\n",
    "print(sum)"
   ]
  },
  {
   "cell_type": "code",
   "execution_count": 26,
   "id": "081e88cf",
   "metadata": {},
   "outputs": [
    {
     "name": "stdout",
     "output_type": "stream",
     "text": [
      "enter (rock, paper, scissors)paper\n",
      "Computer wins!\n"
     ]
    }
   ],
   "source": [
    "import random\n",
    "\n",
    "def user():\n",
    "    while True:\n",
    "        n = input(\"enter (rock, paper, scissors)\").lower()\n",
    "        if n in [\"rock\", \"paper\", \"scissors\"]:\n",
    "            return n\n",
    "        else:\n",
    "            return invalid\n",
    "\n",
    "def com():\n",
    "    c = [\"rock\", \"paper\", \"scissors\"]\n",
    "    return random.choice(c)\n",
    "\n",
    "def winner(user,computer):\n",
    "    if user == computer:\n",
    "        return \"It's a tie!\"\n",
    "    elif (user == 'rock' and computer == 'scissors') or (user == 'scissors' and computer == 'paper') or (user == 'paper' and computer == 'rock'):\n",
    "        return \"You win!\"\n",
    "    else:\n",
    "        return \"Computer wins!\"\n",
    "        \n",
    "user_choice = user()\n",
    "com_choice = com()\n",
    "result = winner(user,com)\n",
    "print(result)\n"
   ]
  },
  {
   "cell_type": "code",
   "execution_count": 14,
   "id": "d3c2a402",
   "metadata": {},
   "outputs": [
    {
     "name": "stdout",
     "output_type": "stream",
     "text": [
      "()(){}\n",
      "Valid\n"
     ]
    }
   ],
   "source": [
    "def is_valid(n):                             #\"{[()]}{}\", \"[]{}()\", \"{{[[]]}}\", \"{[()]}{}\", \"[({})\", \"{{{{\", \"}]\"\n",
    "    stack=[]\n",
    "    mapping = {\")\":\"(\", \"]\":\"[\", \"}\":\"{\"}\n",
    "    \n",
    "    for char in n:\n",
    "        if char in mapping:\n",
    "            top = stack.pop() if stack else \"#\"\n",
    "            if mapping[char] != top:\n",
    "                return False\n",
    "        else:\n",
    "            stack.append(char)\n",
    "    return not stack        \n",
    "    \n",
    "n = input()\n",
    "result = is_valid(n)\n",
    "if result:\n",
    "    print(\"Valid\")\n",
    "else:\n",
    "    print(\"Not Valid\")"
   ]
  },
  {
   "cell_type": "code",
   "execution_count": 15,
   "id": "8ff0e78e",
   "metadata": {},
   "outputs": [
    {
     "name": "stdout",
     "output_type": "stream",
     "text": [
      "print\n",
      "rinpt\n",
      "Anagram\n"
     ]
    }
   ],
   "source": [
    "n = input()\n",
    "m = input()\n",
    "\n",
    "if sorted(n) == sorted(m):\n",
    "    print(\"Anagram\")\n",
    "else:\n",
    "    print(\"Not Anagram\")"
   ]
  },
  {
   "cell_type": "code",
   "execution_count": 16,
   "id": "7110af13",
   "metadata": {},
   "outputs": [
    {
     "name": "stdout",
     "output_type": "stream",
     "text": [
      "Merged sorted list: [1, 2, 3, 4, 5, 6, 7, 8]\n"
     ]
    }
   ],
   "source": [
    "def merge_sorted_lists(list1, list2):\n",
    "    merged_list = []\n",
    "    i = j = 0\n",
    "\n",
    "    while i < len(list1) and j < len(list2):\n",
    "        if list1[i] < list2[j]:\n",
    "            merged_list.append(list1[i])\n",
    "            i += 1\n",
    "        else:\n",
    "            merged_list.append(list2[j])\n",
    "            j += 1\n",
    "\n",
    "    while i < len(list1):\n",
    "        merged_list.append(list1[i])\n",
    "        i += 1\n",
    "\n",
    "    while j < len(list2):\n",
    "        merged_list.append(list2[j])\n",
    "        j += 1\n",
    "\n",
    "    return merged_list\n",
    "\n",
    "# Test\n",
    "list1 = [1, 3, 5, 7]\n",
    "list2 = [2, 4, 6, 8]\n",
    "result = merge_sorted_lists(list1, list2)\n",
    "print(\"Merged sorted list:\", result)\n"
   ]
  },
  {
   "cell_type": "code",
   "execution_count": 4,
   "id": "c6ee169e",
   "metadata": {},
   "outputs": [
    {
     "name": "stdout",
     "output_type": "stream",
     "text": [
      "name\n",
      "game\n",
      "{'m', 'a', 'e'}\n"
     ]
    }
   ],
   "source": [
    "str1 = input()     # common letters\n",
    "str2 = input()\n",
    "n = set(str1) # removes duplicate\n",
    "m = set(str2)\n",
    "final = n & m  # Performs a set intersection, getting common elements between sets n and m. Only performs on set()\n",
    "print(final)\n",
    "\n",
    "# a = []\n",
    "# for i in n:\n",
    "#     for j in m:\n",
    "#         if j == i:\n",
    "#             a += j\n",
    "# print(a)"
   ]
  },
  {
   "cell_type": "code",
   "execution_count": 7,
   "id": "38bd1e75",
   "metadata": {},
   "outputs": [
    {
     "ename": "TypeError",
     "evalue": "unsupported operand type(s) for &: 'str' and 'str'",
     "output_type": "error",
     "traceback": [
      "\u001b[1;31m---------------------------------------------------------------------------\u001b[0m",
      "\u001b[1;31mTypeError\u001b[0m                                 Traceback (most recent call last)",
      "Cell \u001b[1;32mIn[7], line 3\u001b[0m\n\u001b[0;32m      1\u001b[0m a \u001b[38;5;241m=\u001b[39m \u001b[38;5;124m\"\u001b[39m\u001b[38;5;124mgame\u001b[39m\u001b[38;5;124m\"\u001b[39m\n\u001b[0;32m      2\u001b[0m m \u001b[38;5;241m=\u001b[39m \u001b[38;5;124m\"\u001b[39m\u001b[38;5;124mathr\u001b[39m\u001b[38;5;124m\"\u001b[39m\n\u001b[1;32m----> 3\u001b[0m final \u001b[38;5;241m=\u001b[39m a \u001b[38;5;241m&\u001b[39m m\n\u001b[0;32m      4\u001b[0m \u001b[38;5;28mprint\u001b[39m(final)\n",
      "\u001b[1;31mTypeError\u001b[0m: unsupported operand type(s) for &: 'str' and 'str'"
     ]
    }
   ],
   "source": [
    "a = \"game\"\n",
    "m = \"athr\"\n",
    "final = a & m          # error occurs\n",
    "print(final)"
   ]
  },
  {
   "cell_type": "code",
   "execution_count": 12,
   "id": "f74cd456",
   "metadata": {},
   "outputs": [
    {
     "name": "stdout",
     "output_type": "stream",
     "text": [
      "hi tom. hi lisa.\n",
      "{'hi': 2, 'tom.': 1, 'lisa.': 1}\n"
     ]
    }
   ],
   "source": [
    "n = input()              # word count\n",
    "n = n.split()\n",
    "d = {}\n",
    "\n",
    "for i in n:\n",
    "    if i not in d.keys():\n",
    "        d[i] = 0\n",
    "    d[i] = d[i] + 1\n",
    "print(d)\n"
   ]
  },
  {
   "cell_type": "code",
   "execution_count": 2,
   "id": "22943aa3",
   "metadata": {},
   "outputs": [
    {
     "name": "stdout",
     "output_type": "stream",
     "text": [
      "5\n",
      "2\n",
      "3\n",
      "5\n",
      "6\n",
      "7\n",
      "10\n",
      "Pairs with sum 10: [(3, 7)]\n"
     ]
    }
   ],
   "source": [
    "# add 2 numbers to get sum\n",
    "def find_pairs_with_sum(arr, target_sum):\n",
    "    pairs = []\n",
    "    seen = set()\n",
    "\n",
    "    for num in arr:\n",
    "        complement = target_sum - num\n",
    "        if complement in seen:\n",
    "            pairs.append((complement, num))\n",
    "        seen.add(num)\n",
    "\n",
    "    return pairs\n",
    "\n",
    "# Example usage\n",
    "arr = []\n",
    "n = int(input())\n",
    "for i in range(0,n):\n",
    "    ele = int(input())\n",
    "    arr.append(ele)\n",
    "target = int(input())\n",
    "result = find_pairs_with_sum(arr, target)\n",
    "print(f\"Pairs with sum {target}: {result}\")\n"
   ]
  },
  {
   "cell_type": "code",
   "execution_count": 8,
   "id": "0eab13fc",
   "metadata": {
    "scrolled": false
   },
   "outputs": [
    {
     "name": "stdout",
     "output_type": "stream",
     "text": [
      "abc\n",
      "1\n",
      "def\n",
      "no\n"
     ]
    }
   ],
   "source": [
    "a = input()\n",
    "t = int(input())\n",
    "while t>0:\n",
    "    n = input()\n",
    "    c=0\n",
    "    d=0\n",
    "    for i in n:\n",
    "        if i in a:\n",
    "            c += 1\n",
    "        else:\n",
    "            d += 1\n",
    "    if c > 0:\n",
    "        print(\"yes\")\n",
    "    else:\n",
    "        print(\"no\")\n",
    "    t -=1"
   ]
  },
  {
   "cell_type": "code",
   "execution_count": 5,
   "id": "2023705a",
   "metadata": {},
   "outputs": [
    {
     "name": "stdout",
     "output_type": "stream",
     "text": [
      "8\n",
      "32\n",
      "8\n"
     ]
    }
   ],
   "source": [
    "a = int(input())        # gcd of 2 numbers\n",
    "b = int(input())\n",
    "c = 0\n",
    "d = []\n",
    "if a>b:\n",
    "    c = c+b\n",
    "else:\n",
    "    c = c+a\n",
    "for i in range(2,c+1):\n",
    "    if a%i == 0 and b%i == 0:\n",
    "        d.append(i)\n",
    "print(\"hcf is \"max(d))"
   ]
  },
  {
   "cell_type": "code",
   "execution_count": 1,
   "id": "c338b1b9",
   "metadata": {},
   "outputs": [
    {
     "name": "stdout",
     "output_type": "stream",
     "text": [
      "12\n",
      "14\n",
      "lcm is 84\n"
     ]
    }
   ],
   "source": [
    "# lcm \n",
    "a = int(input())\n",
    "b = int(input())\n",
    "\n",
    "for i in range(max(a,b), 1 + (a*b)):\n",
    "    if i%a == i%b == 0:\n",
    "        print(\"lcm is\", i)\n",
    "        break"
   ]
  },
  {
   "cell_type": "code",
   "execution_count": 5,
   "id": "9638a9d8",
   "metadata": {},
   "outputs": [
    {
     "name": "stdout",
     "output_type": "stream",
     "text": [
      "1 2 3 4 5\n",
      "2\n",
      "[3, 4, 5, 1, 2]\n"
     ]
    }
   ],
   "source": [
    "# left rotate \n",
    "\n",
    "arr = [int(x) for x in input().split()]\n",
    "s = int(input())\n",
    "new = arr[s:] + arr[:s]\n",
    "print(new)"
   ]
  },
  {
   "cell_type": "code",
   "execution_count": 6,
   "id": "a8a54bf3",
   "metadata": {},
   "outputs": [
    {
     "name": "stdout",
     "output_type": "stream",
     "text": [
      "1 2 3 4 5 10 6\n",
      "10\n"
     ]
    }
   ],
   "source": [
    "# max number in array\n",
    "arr = [int(x) for x in input().split()]\n",
    "maxi = max(arr)\n",
    "print(maxi)"
   ]
  },
  {
   "cell_type": "code",
   "execution_count": 9,
   "id": "2edf1f40",
   "metadata": {},
   "outputs": [
    {
     "name": "stdout",
     "output_type": "stream",
     "text": [
      "1 2 3 4 5 6\n",
      "5\n"
     ]
    }
   ],
   "source": [
    "# 2nd largest in a array\n",
    "arr = [int(x) for x in input().split()]\n",
    "new = sorted(arr, reverse=True) \n",
    "print(new[1])"
   ]
  },
  {
   "cell_type": "code",
   "execution_count": 1,
   "id": "2139ce1b",
   "metadata": {},
   "outputs": [
    {
     "name": "stdout",
     "output_type": "stream",
     "text": [
      "25\n",
      "5.0\n"
     ]
    }
   ],
   "source": [
    "# Square root of a number\n",
    "import math \n",
    "\n",
    "a = math.sqrt(int(input()))\n",
    "print(a)"
   ]
  },
  {
   "cell_type": "code",
   "execution_count": 15,
   "id": "b8a48ee6",
   "metadata": {},
   "outputs": [
    {
     "name": "stdout",
     "output_type": "stream",
     "text": [
      "2145434\n",
      "1464.7300092508517\n"
     ]
    }
   ],
   "source": [
    "# Square root of a number without sqrt() function\n",
    "x = int(input()) \n",
    "x_sqrt = x**0.5\n",
    "print(x_sqrt)"
   ]
  },
  {
   "cell_type": "code",
   "execution_count": 31,
   "id": "3b8266c8",
   "metadata": {
    "scrolled": true
   },
   "outputs": [
    {
     "name": "stdout",
     "output_type": "stream",
     "text": [
      "affection concurrent\n",
      "{' ': 1, 'a': 1, 'c': 3, 'e': 2, 'f': 2, 'i': 1, 'n': 3, 'o': 2, 'r': 2, 't': 2, 'u': 1}\n"
     ]
    }
   ],
   "source": [
    "n = input()\n",
    "w = sorted([w for w in n])\n",
    "d = {}\n",
    "for i in w:\n",
    "    if i not in d.keys():\n",
    "        d[i] = 0\n",
    "    d[i] = d[i] + 1\n",
    "print(d)"
   ]
  },
  {
   "cell_type": "code",
   "execution_count": 2,
   "id": "1f698aac",
   "metadata": {
    "scrolled": true
   },
   "outputs": [
    {
     "name": "stdout",
     "output_type": "stream",
     "text": [
      "Hello, my name is Nikhil\n"
     ]
    }
   ],
   "source": [
    "# def __init__() explanation\n",
    "\n",
    "\n",
    "'''\n",
    "class Person:\n",
    "    def say_hi(self):\n",
    "        print('Hello, my name is', self.name)\n",
    " \n",
    " \n",
    "p = Person('Nikhil')\n",
    "p.say_hi()\n",
    "\n",
    "# TypeError: Person() takes no arguments\n",
    "'''\n",
    "class Person:\n",
    "    \n",
    "    def __init__(self,name):\n",
    "        self.name = name\n",
    "    \n",
    "    def say_hi(self):\n",
    "        print('Hello, my name is', self.name)\n",
    " \n",
    " \n",
    "p = Person('Nikhil')\n",
    "p.say_hi()"
   ]
  },
  {
   "cell_type": "code",
   "execution_count": 3,
   "id": "e2734256",
   "metadata": {},
   "outputs": [
    {
     "ename": "TypeError",
     "evalue": "Node() takes no arguments",
     "output_type": "error",
     "traceback": [
      "\u001b[1;31m---------------------------------------------------------------------------\u001b[0m",
      "\u001b[1;31mTypeError\u001b[0m                                 Traceback (most recent call last)",
      "Cell \u001b[1;32mIn[3], line 36\u001b[0m\n\u001b[0;32m     32\u001b[0m             currnode \u001b[38;5;241m=\u001b[39m currnode\u001b[38;5;241m.\u001b[39mnext\n\u001b[0;32m     34\u001b[0m \u001b[38;5;28mlist\u001b[39m \u001b[38;5;241m=\u001b[39m LinkedList()\n\u001b[1;32m---> 36\u001b[0m \u001b[38;5;28mlist\u001b[39m\u001b[38;5;241m.\u001b[39minsertRootNode(\u001b[38;5;241m20\u001b[39m)\n\u001b[0;32m     37\u001b[0m \u001b[38;5;28mlist\u001b[39m\u001b[38;5;241m.\u001b[39minsert(\u001b[38;5;241m23\u001b[39m)\n\u001b[0;32m     38\u001b[0m \u001b[38;5;28mlist\u001b[39m\u001b[38;5;241m.\u001b[39minsert(\u001b[38;5;241m45\u001b[39m)\n",
      "Cell \u001b[1;32mIn[3], line 11\u001b[0m, in \u001b[0;36mLinkedList.insertRootNode\u001b[1;34m(self, data)\u001b[0m\n\u001b[0;32m     10\u001b[0m \u001b[38;5;28;01mdef\u001b[39;00m \u001b[38;5;21minsertRootNode\u001b[39m(\u001b[38;5;28mself\u001b[39m, data):\n\u001b[1;32m---> 11\u001b[0m     newnode \u001b[38;5;241m=\u001b[39m Node(data)\n\u001b[0;32m     12\u001b[0m     \u001b[38;5;28;01mif\u001b[39;00m \u001b[38;5;28mself\u001b[39m\u001b[38;5;241m.\u001b[39mhead \u001b[38;5;129;01mis\u001b[39;00m \u001b[38;5;28;01mNone\u001b[39;00m:\n\u001b[0;32m     13\u001b[0m         \u001b[38;5;28mself\u001b[39m\u001b[38;5;241m.\u001b[39mhead \u001b[38;5;241m=\u001b[39m newnode\n",
      "\u001b[1;31mTypeError\u001b[0m: Node() takes no arguments"
     ]
    }
   ],
   "source": [
    "class Node:\n",
    "    def _init_(self,data) -> None:\n",
    "        self.data = data\n",
    "        self.next = None\n",
    "\n",
    "class LinkedList:\n",
    "    def _init_(self):\n",
    "        self.head = None\n",
    "\n",
    "    def insertRootNode(self, data):\n",
    "        newnode = Node(data)\n",
    "        if self.head is None:\n",
    "            self.head = newnode\n",
    "        else:\n",
    "            newnode.next = self.head\n",
    "            self.head = newnode\n",
    "\n",
    "    def insert(self, data):\n",
    "        newnode = Node(data)\n",
    "        if self.head is None:\n",
    "            self.head = newnode\n",
    "            return\n",
    "        currnode = self.head\n",
    "        while(currnode.next):\n",
    "            currnode = currnode.next\n",
    "        currnode.next = newnode\n",
    "\n",
    "    def printLinkedList(self):\n",
    "        currnode = self.head\n",
    "        while(currnode.next):\n",
    "            print(currnode.data)\n",
    "            currnode = currnode.next\n",
    "\n",
    "list = LinkedList()\n",
    "\n",
    "list.insertRootNode(20)\n",
    "list.insert(23)\n",
    "list.insert(45)\n",
    "list.insert(67)\n",
    "\n",
    "list.printLinkedList()"
   ]
  },
  {
   "cell_type": "code",
   "execution_count": 10,
   "id": "0cfd5610",
   "metadata": {},
   "outputs": [
    {
     "name": "stdout",
     "output_type": "stream",
     "text": [
      "153\n",
      "arm\n"
     ]
    }
   ],
   "source": [
    "# armstrong num\n",
    "\n",
    "def arm(n):\n",
    "    num_str = str(n)\n",
    "    num_dig = len(num_str)\n",
    "    sum_of_powers = sum(int(i)**num_dig for i in num_str)\n",
    "    if sum_of_powers == n:\n",
    "        print(\"arm\")\n",
    "    else:\n",
    "        print(\"no arm\")\n",
    "\n",
    "n = int(input())\n",
    "result = arm(n)"
   ]
  },
  {
   "cell_type": "code",
   "execution_count": 11,
   "id": "89ff42fb",
   "metadata": {},
   "outputs": [
    {
     "name": "stdout",
     "output_type": "stream",
     "text": [
      "A\n",
      "B\n",
      "D\n",
      "E\n",
      "F\n",
      "C\n"
     ]
    }
   ],
   "source": [
    "def dfs_recursive(graph, start, visited=None):\n",
    "    if visited is None:\n",
    "        visited = set()\n",
    "    \n",
    "    visited.add(start)\n",
    "    print(start)  # Process the node (for demonstration purposes, we're just printing it)\n",
    "    \n",
    "    for neighbor in graph[start]:\n",
    "        if neighbor not in visited:\n",
    "            dfs_recursive(graph, neighbor, visited)\n",
    "\n",
    "# Example usage:\n",
    "graph = {\n",
    "    'A': ['B', 'C'],\n",
    "    'B': ['A', 'D', 'E'],\n",
    "    'C': ['A', 'F'],\n",
    "    'D': ['B'],\n",
    "    'E': ['B', 'F'],\n",
    "    'F': ['C', 'E']\n",
    "}\n",
    "\n",
    "dfs_recursive(graph, 'A')\n"
   ]
  },
  {
   "cell_type": "code",
   "execution_count": 2,
   "id": "539c1d3b",
   "metadata": {},
   "outputs": [
    {
     "name": "stdout",
     "output_type": "stream",
     "text": [
      "John Doe\n"
     ]
    }
   ],
   "source": [
    "class Person:\n",
    "    def __init__(self, name):\n",
    "        self.name = name\n",
    "        print(name)\n",
    "        \n",
    "person = Person(\"John Doe\")"
   ]
  },
  {
   "cell_type": "code",
   "execution_count": null,
   "id": "dd902ed5",
   "metadata": {},
   "outputs": [],
   "source": []
  },
  {
   "cell_type": "code",
   "execution_count": null,
   "id": "51194aee",
   "metadata": {},
   "outputs": [],
   "source": []
  },
  {
   "cell_type": "code",
   "execution_count": null,
   "id": "7f61c4c0",
   "metadata": {},
   "outputs": [],
   "source": []
  },
  {
   "cell_type": "code",
   "execution_count": null,
   "id": "2a6cfd7e",
   "metadata": {},
   "outputs": [],
   "source": []
  },
  {
   "cell_type": "code",
   "execution_count": null,
   "id": "4e180995",
   "metadata": {},
   "outputs": [],
   "source": []
  }
 ],
 "metadata": {
  "kernelspec": {
   "display_name": "Python 3 (ipykernel)",
   "language": "python",
   "name": "python3"
  },
  "language_info": {
   "codemirror_mode": {
    "name": "ipython",
    "version": 3
   },
   "file_extension": ".py",
   "mimetype": "text/x-python",
   "name": "python",
   "nbconvert_exporter": "python",
   "pygments_lexer": "ipython3",
   "version": "3.11.5"
  }
 },
 "nbformat": 4,
 "nbformat_minor": 5
}
